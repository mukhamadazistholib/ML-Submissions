{
  "nbformat": 4,
  "nbformat_minor": 0,
  "metadata": {
    "colab": {
      "name": "ML Submission-3",
      "provenance": []
    },
    "kernelspec": {
      "name": "python3",
      "display_name": "Python 3"
    },
    "language_info": {
      "name": "python"
    },
    "accelerator": "GPU"
  },
  "cells": [
    {
      "cell_type": "markdown",
      "metadata": {
        "id": "aqUy8u-1H7NQ"
      },
      "source": [
        "# **IMAGE CLASSIFICATION MODEL DEPLOYMENT**\n",
        "\n",
        "---"
      ]
    },
    {
      "cell_type": "markdown",
      "metadata": {
        "id": "9W1LUpOnH_eo"
      },
      "source": [
        "###**PERSONAL IDENTITY**\n",
        "\n",
        "Nama : Mukhamad Azis Tholib \\\n",
        "Email: mukhamadazistholib278@gmail.com"
      ]
    },
    {
      "cell_type": "markdown",
      "metadata": {
        "id": "y8YJgmLKIBQL"
      },
      "source": [
        "### **DOWNLOAD DATASET FROM KAGGLE**"
      ]
    },
    {
      "cell_type": "code",
      "metadata": {
        "id": "tqs0qEwoIEhd"
      },
      "source": [
        "# kaggle instalation package\n",
        "\n",
        "!pip install -q kaggle"
      ],
      "execution_count": 1,
      "outputs": []
    },
    {
      "cell_type": "code",
      "metadata": {
        "id": "uyrYEsfzIIZL",
        "colab": {
          "resources": {
            "http://localhost:8080/nbextensions/google.colab/files.js": {
              "data": "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",
              "ok": true,
              "headers": [
                [
                  "content-type",
                  "application/javascript"
                ]
              ],
              "status": 200,
              "status_text": ""
            }
          },
          "base_uri": "https://localhost:8080/",
          "height": 89
        },
        "outputId": "7363fe07-888f-4fce-e404-6324a10705bc"
      },
      "source": [
        "# upload kaggle.json\n",
        "from google.colab import files\n",
        "files.upload()"
      ],
      "execution_count": 2,
      "outputs": [
        {
          "output_type": "display_data",
          "data": {
            "text/html": [
              "\n",
              "     <input type=\"file\" id=\"files-b2662ebb-59f2-49c4-b994-1ff7898aab50\" name=\"files[]\" multiple disabled\n",
              "        style=\"border:none\" />\n",
              "     <output id=\"result-b2662ebb-59f2-49c4-b994-1ff7898aab50\">\n",
              "      Upload widget is only available when the cell has been executed in the\n",
              "      current browser session. Please rerun this cell to enable.\n",
              "      </output>\n",
              "      <script src=\"/nbextensions/google.colab/files.js\"></script> "
            ],
            "text/plain": [
              "<IPython.core.display.HTML object>"
            ]
          },
          "metadata": {}
        },
        {
          "output_type": "stream",
          "text": [
            "Saving kaggle.json to kaggle.json\n"
          ],
          "name": "stdout"
        },
        {
          "output_type": "execute_result",
          "data": {
            "text/plain": [
              "{'kaggle.json': b'{\"username\":\"mukhamadazistholib\",\"key\":\"08bda164beac87e49af77c49b0bd592f\"}'}"
            ]
          },
          "metadata": {},
          "execution_count": 2
        }
      ]
    },
    {
      "cell_type": "code",
      "metadata": {
        "id": "DXQXOBRom89g",
        "colab": {
          "base_uri": "https://localhost:8080/"
        },
        "outputId": "932c7655-d81d-4973-87a5-5ec10dfd8b00"
      },
      "source": [
        "# make directory and change permission for kaggle\n",
        "\n",
        "!mkdir -p ~/.kaggle\n",
        "!cp kaggle.json ~/.kaggle/\n",
        "!chmod 600 ~/.kaggle/kaggle.json\n",
        "!ls ~/.kaggle"
      ],
      "execution_count": null,
      "outputs": [
        {
          "output_type": "stream",
          "text": [
            "kaggle.json\n"
          ],
          "name": "stdout"
        }
      ]
    },
    {
      "cell_type": "code",
      "metadata": {
        "id": "FgvhiUkKrDBM",
        "colab": {
          "base_uri": "https://localhost:8080/"
        },
        "outputId": "b92fd54b-08cb-42bf-b52a-e6d7d0db9705"
      },
      "source": [
        "# download dataset with 'copy api command' from kaggle\n",
        "\n",
        "!kaggle datasets download -d madisona/translated-animals10"
      ],
      "execution_count": null,
      "outputs": [
        {
          "output_type": "stream",
          "text": [
            "Downloading translated-animals10.zip to /content\n",
            " 96% 565M/586M [00:02<00:00, 226MB/s]\n",
            "100% 586M/586M [00:02<00:00, 215MB/s]\n"
          ],
          "name": "stdout"
        }
      ]
    },
    {
      "cell_type": "code",
      "metadata": {
        "id": "sXgfNg4SrNrA",
        "colab": {
          "base_uri": "https://localhost:8080/"
        },
        "outputId": "e5f811d8-0508-4337-9e97-abbf38f6b862"
      },
      "source": [
        "# unzip dataset\n",
        "\n",
        "!mkdir animals\n",
        "!unzip -qq translated-animals10.zip -d animals\n",
        "!ls animals"
      ],
      "execution_count": null,
      "outputs": [
        {
          "output_type": "stream",
          "text": [
            "animals10\n"
          ],
          "name": "stdout"
        }
      ]
    },
    {
      "cell_type": "markdown",
      "metadata": {
        "id": "tkqUXBJoJWfg"
      },
      "source": [
        "### **IMPORT LIBRARY**"
      ]
    },
    {
      "cell_type": "code",
      "metadata": {
        "id": "lEHwBY3PQdnA"
      },
      "source": [
        "# import library\n",
        "\n",
        "from io import BytesIO\n",
        "from IPython.display import Image as IMG\n",
        "from google.colab import files\n",
        "from keras.preprocessing import image\n",
        "from shutil import copyfile\n",
        "from sklearn.metrics import classification_report, confusion_matrix\n",
        "from tensorflow.keras.applications.inception_v3 import InceptionV3\n",
        "from tensorflow.keras.preprocessing.image import ImageDataGenerator\n",
        "from tensorflow.keras.optimizers import RMSprop\n",
        "from urllib.request import urlopen\n",
        "import seaborn as sns\n",
        "import matplotlib.image as mpimg\n",
        "import matplotlib.pyplot as plt\n",
        "import numpy as np\n",
        "import pandas as pd\n",
        "import random\n",
        "import tensorflow as tf\n",
        "import zipfile, os\n",
        "import warnings\n",
        "warnings.filterwarnings(\"ignore\")"
      ],
      "execution_count": null,
      "outputs": []
    },
    {
      "cell_type": "markdown",
      "metadata": {
        "id": "jHjizayLJkDW"
      },
      "source": [
        "### **LOAD DATASET**"
      ]
    },
    {
      "cell_type": "code",
      "metadata": {
        "colab": {
          "base_uri": "https://localhost:8080/"
        },
        "id": "YNt-YClKQKgM",
        "outputId": "9d6c11bd-9569-4158-ef05-193daf67b779"
      },
      "source": [
        "# inspect dataset\n",
        "animals = ['chicken', 'spider', 'sheep', 'butterfly', 'elephant', 'cat']\n",
        "\n",
        "for animal in animals:\n",
        "    print(f'{animal} images: ', len(os.listdir(f'/content/animals/animals10/raw-img/{animal}')))"
      ],
      "execution_count": null,
      "outputs": [
        {
          "output_type": "stream",
          "text": [
            "chicken images:  3098\n",
            "spider images:  4821\n",
            "sheep images:  1820\n",
            "butterfly images:  2112\n",
            "elephant images:  1446\n",
            "cat images:  1668\n"
          ],
          "name": "stdout"
        }
      ]
    },
    {
      "cell_type": "code",
      "metadata": {
        "id": "C3f87AE9cyKH"
      },
      "source": [
        "# making folder\n",
        "\n",
        "try:\n",
        "  os.mkdir('/content/animals/animals10/training')\n",
        "  os.mkdir('/content/animals/animals10/testing')\n",
        "  for animal in animals:\n",
        "    os.mkdir(f'/content/animals/animals10/training/{animal}')\n",
        "    os.mkdir(f'/content/animals/animals10/testing/{animal}')\n",
        "except OSError:\n",
        "  pass"
      ],
      "execution_count": null,
      "outputs": []
    },
    {
      "cell_type": "markdown",
      "metadata": {
        "id": "xyB-u39Z2Pc4"
      },
      "source": [
        "### **DATA SPLIT**"
      ]
    },
    {
      "cell_type": "code",
      "metadata": {
        "id": "iZzSwKujTB7R"
      },
      "source": [
        "# splitting dataset\n",
        "\n",
        "def split_data(images_path, training_path, testing_path, split_size):\n",
        "    files = []\n",
        "    for filename in os.listdir(images_path):\n",
        "        file = images_path + filename\n",
        "        if os.path.getsize(file) > 0:\n",
        "            files.append(filename)\n",
        "        else:\n",
        "            print(filename + \" others\")\n",
        "\n",
        "    training_length = int(len(files) * split_size)\n",
        "    testing_length = int(len(files) - training_length)\n",
        "    shuffled_set = random.sample(files, len(files))\n",
        "    training_set = shuffled_set[0:training_length]\n",
        "    testing_set = shuffled_set[training_length:]\n",
        "\n",
        "    for filename in training_set:\n",
        "        this_file = images_path + filename\n",
        "        destination = training_path + filename\n",
        "        copyfile(this_file, destination)\n",
        "\n",
        "    for filename in testing_set:\n",
        "        this_file = images_path + filename\n",
        "        destination = testing_path + filename\n",
        "        copyfile(this_file, destination)\n",
        "\n",
        "# 80% Data Training and 20% Data Validation\n",
        "\n",
        "split_size = 0.8 \n",
        "\n",
        "chicken_images_path = \"/content/animals/animals10/raw-img/chicken/\"\n",
        "chicken_train_path = \"/content/animals/animals10/training/chicken/\"\n",
        "chicken_test_path = \"/content/animals/animals10/testing/chicken/\"\n",
        "split_data(chicken_images_path, chicken_train_path, chicken_test_path, split_size)\n",
        "\n",
        "spider_images_path = \"/content/animals/animals10/raw-img/spider/\"\n",
        "spider_train_path = \"/content/animals/animals10/training/spider/\"\n",
        "spider_test_path = \"/content/animals/animals10/testing/spider/\"\n",
        "split_data(spider_images_path, spider_train_path, spider_test_path, split_size)\n",
        "\n",
        "sheep_images_path = \"/content/animals/animals10/raw-img/sheep/\"\n",
        "sheep_train_path = \"/content/animals/animals10/training/sheep/\"\n",
        "sheep_test_path = \"/content/animals/animals10/testing/sheep/\"\n",
        "split_data(sheep_images_path, sheep_train_path, sheep_test_path, split_size)\n",
        "\n",
        "butterfly_images_path = \"/content/animals/animals10/raw-img/butterfly/\"\n",
        "butterfly_train_path = \"/content/animals/animals10/training/butterfly/\"\n",
        "butterfly_test_path = \"/content/animals/animals10/testing/butterfly/\"\n",
        "split_data(butterfly_images_path, butterfly_train_path, butterfly_test_path, split_size)\n",
        "\n",
        "elephant_images_path = \"/content/animals/animals10/raw-img/elephant/\"\n",
        "elephant_train_path = \"/content/animals/animals10/training/elephant/\"\n",
        "elephant_test_path = \"/content/animals/animals10/testing/elephant/\"\n",
        "split_data(elephant_images_path, elephant_train_path, elephant_test_path, split_size)\n",
        "\n",
        "cat_images_path = \"/content/animals/animals10/raw-img/cat/\"\n",
        "cat_train_path = \"/content/animals/animals10/training/cat/\"\n",
        "cat_test_path = \"/content/animals/animals10/testing/cat/\"\n",
        "split_data(cat_images_path, cat_train_path, cat_test_path, split_size)"
      ],
      "execution_count": null,
      "outputs": []
    },
    {
      "cell_type": "code",
      "metadata": {
        "colab": {
          "base_uri": "https://localhost:8080/"
        },
        "id": "10lc6u_b26rG",
        "outputId": "a4fcf558-6365-404d-f64d-9c2a94c62f48"
      },
      "source": [
        "# validation size of dataset\n",
        "\n",
        "total_train = len(os.listdir(chicken_train_path)) + len(os.listdir(spider_train_path)) + \\\n",
        "              len(os.listdir(sheep_train_path)) + len(os.listdir(butterfly_train_path)) + \\\n",
        "              len(os.listdir(elephant_train_path)) + len(os.listdir(cat_train_path))\n",
        "total_test  = len(os.listdir(chicken_test_path)) + len(os.listdir(spider_test_path)) + \\\n",
        "              len(os.listdir(sheep_test_path)) + len(os.listdir(butterfly_test_path)) + \\\n",
        "              len(os.listdir(elephant_test_path)) + len(os.listdir(cat_test_path))\n",
        "\n",
        "print(\"We have a total training data of \" + str(total_train) + \" rows and validation data of \" + str(total_test))"
      ],
      "execution_count": null,
      "outputs": [
        {
          "output_type": "stream",
          "text": [
            "We have a total training data of 11969 rows and validation data of 2996\n"
          ],
          "name": "stdout"
        }
      ]
    },
    {
      "cell_type": "markdown",
      "metadata": {
        "id": "Kpj5jQK23OmV"
      },
      "source": [
        "### **DATA MODEL**"
      ]
    },
    {
      "cell_type": "markdown",
      "metadata": {
        "id": "aNE5mX8OKZb6"
      },
      "source": [
        "**DATA TRAIN**"
      ]
    },
    {
      "cell_type": "code",
      "metadata": {
        "colab": {
          "base_uri": "https://localhost:8080/"
        },
        "id": "wg1RQcNZUvCW",
        "outputId": "df1b13c3-9a0a-4869-c8cf-7b9d8270c48f"
      },
      "source": [
        "# image augmentation dataset\n",
        "\n",
        "TRAINING_DIR = '/content/animals/animals10/training'\n",
        "train_datagen = ImageDataGenerator(\n",
        "    rescale = 1./255,\n",
        "    rotation_range = 30,\n",
        "    width_shift_range = 0.1,\n",
        "    height_shift_range = 0.2,\n",
        "    shear_range = 0.2,\n",
        "    zoom_range = 0.2,\n",
        "    horizontal_flip = True,\n",
        "    fill_mode = 'nearest'\n",
        ") \n",
        "\n",
        "train_generator = train_datagen.flow_from_directory(\n",
        "    TRAINING_DIR, \n",
        "    batch_size = 64,\n",
        "    class_mode = 'categorical',\n",
        "    target_size = (150,150)\n",
        ")\n",
        "\n",
        "VALIDATION_DIR = \"/content/animals/animals10/testing\"\n",
        "validation_datagen = ImageDataGenerator(rescale = 1./255)\n",
        "validation_generator = validation_datagen.flow_from_directory(\n",
        "    VALIDATION_DIR,\n",
        "    batch_size = 64,\n",
        "    class_mode = 'categorical',\n",
        "    target_size = (150, 150)\n",
        ")"
      ],
      "execution_count": null,
      "outputs": [
        {
          "output_type": "stream",
          "text": [
            "Found 11969 images belonging to 6 classes.\n",
            "Found 2996 images belonging to 6 classes.\n"
          ],
          "name": "stdout"
        }
      ]
    },
    {
      "cell_type": "markdown",
      "metadata": {
        "id": "iCKPhe-fDgZo"
      },
      "source": [
        "**CALLBACKS**"
      ]
    },
    {
      "cell_type": "code",
      "metadata": {
        "id": "tJ-2H09Kfauu"
      },
      "source": [
        "# callbacks implementation\n",
        "\n",
        "reduce_lr = tf.keras.callbacks.ReduceLROnPlateau(\n",
        "    monitor='val_loss', \n",
        "    factor=0.2,\n",
        "    patience=5, \n",
        "    min_lr=1.5e-5\n",
        ")\n",
        "\n",
        "early_stop = tf.keras.callbacks.EarlyStopping(\n",
        "    monitor=\"val_loss\",\n",
        "    min_delta=0,\n",
        "    patience=12,\n",
        "    verbose=0,\n",
        "    mode=\"auto\",\n",
        "    baseline=None,\n",
        "    restore_best_weights=True\n",
        ")"
      ],
      "execution_count": null,
      "outputs": []
    },
    {
      "cell_type": "markdown",
      "metadata": {
        "id": "W0zrRR2xKxmo"
      },
      "source": [
        "**PLOT FUNCTION**"
      ]
    },
    {
      "cell_type": "code",
      "metadata": {
        "id": "qDcXxNqQcJFi"
      },
      "source": [
        "# plot function\n",
        "\n",
        "plt.style.use('seaborn-whitegrid')\n",
        "\n",
        "def plot_acc(history):\n",
        "  acc = history.history['accuracy']\n",
        "  val_acc = history.history['val_accuracy']\n",
        "  epochs = range(len(acc))\n",
        "  plt.subplot(1, 2, 1)\n",
        "  acc_plot, = plt.plot(epochs, acc, 'r')\n",
        "  val_acc_plot, = plt.plot(epochs, val_acc, 'b')\n",
        "  plt.title('Training and Validation Accuracy')\n",
        "  plt.legend([acc_plot, val_acc_plot], ['Training Accuracy', 'Validation Accuracy'])\n",
        "\n",
        "\n",
        "def plot_loss(history):\n",
        "  loss = history.history['loss']\n",
        "  val_loss = history.history['val_loss']\n",
        "  epochs = range(len(loss))\n",
        "  plt.subplot(1, 2, 2)\n",
        "  loss_plot, = plt.plot(epochs, loss, 'r')\n",
        "  val_loss_plot, = plt.plot(epochs, val_loss, 'b')\n",
        "  plt.title('Training and Validation Loss')\n",
        "  plt.legend([loss_plot, val_loss_plot], ['Training Loss', 'Validation Loss'])\n",
        "\n",
        "def plot_history(history):\n",
        "  plt.figure(figsize=(15,5))\n",
        "  plot_acc(history)\n",
        "  plot_loss(history)"
      ],
      "execution_count": null,
      "outputs": []
    },
    {
      "cell_type": "markdown",
      "metadata": {
        "id": "iFFb75EoLClP"
      },
      "source": [
        "**CNN MODELLING**"
      ]
    },
    {
      "cell_type": "code",
      "metadata": {
        "colab": {
          "base_uri": "https://localhost:8080/"
        },
        "id": "r5i0WNgLcSUU",
        "outputId": "080d4c2a-141d-4d76-ffd1-5a39a97fc5a0"
      },
      "source": [
        "tf.keras.backend.clear_session()\n",
        "\n",
        "model_simple = tf.keras.models.Sequential([\n",
        "    tf.keras.layers.Conv2D(64, (3, 3), activation='relu', input_shape=(150, 150, 3)),\n",
        "    tf.keras.layers.MaxPooling2D(2, 2),\n",
        "    tf.keras.layers.Conv2D(128, (3,3), activation='relu'),\n",
        "    tf.keras.layers.MaxPooling2D(2,2),\n",
        "    tf.keras.layers.Conv2D(128, (3,3), activation='relu'),\n",
        "    tf.keras.layers.MaxPooling2D(2,2),\n",
        "    tf.keras.layers.Conv2D(128, (3,3), activation='relu'),\n",
        "    tf.keras.layers.MaxPooling2D(2,2),\n",
        "    tf.keras.layers.Flatten(),\n",
        "    tf.keras.layers.Dropout(0.5), \n",
        "    tf.keras.layers.Dense(64, activation='relu'),\n",
        "    tf.keras.layers.Dense(32, activation='relu'),\n",
        "    tf.keras.layers.Dense(6, activation='softmax')\n",
        "])\n",
        "\n",
        "model_simple.summary()"
      ],
      "execution_count": null,
      "outputs": [
        {
          "output_type": "stream",
          "text": [
            "Model: \"sequential\"\n",
            "_________________________________________________________________\n",
            "Layer (type)                 Output Shape              Param #   \n",
            "=================================================================\n",
            "conv2d (Conv2D)              (None, 148, 148, 64)      1792      \n",
            "_________________________________________________________________\n",
            "max_pooling2d (MaxPooling2D) (None, 74, 74, 64)        0         \n",
            "_________________________________________________________________\n",
            "conv2d_1 (Conv2D)            (None, 72, 72, 128)       73856     \n",
            "_________________________________________________________________\n",
            "max_pooling2d_1 (MaxPooling2 (None, 36, 36, 128)       0         \n",
            "_________________________________________________________________\n",
            "conv2d_2 (Conv2D)            (None, 34, 34, 128)       147584    \n",
            "_________________________________________________________________\n",
            "max_pooling2d_2 (MaxPooling2 (None, 17, 17, 128)       0         \n",
            "_________________________________________________________________\n",
            "conv2d_3 (Conv2D)            (None, 15, 15, 128)       147584    \n",
            "_________________________________________________________________\n",
            "max_pooling2d_3 (MaxPooling2 (None, 7, 7, 128)         0         \n",
            "_________________________________________________________________\n",
            "flatten (Flatten)            (None, 6272)              0         \n",
            "_________________________________________________________________\n",
            "dropout (Dropout)            (None, 6272)              0         \n",
            "_________________________________________________________________\n",
            "dense (Dense)                (None, 64)                401472    \n",
            "_________________________________________________________________\n",
            "dense_1 (Dense)              (None, 32)                2080      \n",
            "_________________________________________________________________\n",
            "dense_2 (Dense)              (None, 6)                 198       \n",
            "=================================================================\n",
            "Total params: 774,566\n",
            "Trainable params: 774,566\n",
            "Non-trainable params: 0\n",
            "_________________________________________________________________\n"
          ],
          "name": "stdout"
        }
      ]
    },
    {
      "cell_type": "markdown",
      "metadata": {
        "id": "CTZj1GIELPAs"
      },
      "source": [
        "### **RUNNING #1**"
      ]
    },
    {
      "cell_type": "markdown",
      "metadata": {
        "id": "UKtDAEYsLWPB"
      },
      "source": [
        "**MODEL OPTIMIZER USING ADAM**"
      ]
    },
    {
      "cell_type": "code",
      "metadata": {
        "id": "hLQe9ePwMcyP",
        "colab": {
          "base_uri": "https://localhost:8080/"
        },
        "outputId": "172713ce-9f55-4448-ef9d-6514d868c44d"
      },
      "source": [
        "model_simple.compile(\n",
        "    optimizer='adam', \n",
        "    loss='categorical_crossentropy', \n",
        "    metrics=['accuracy']\n",
        ")\n",
        "\n",
        "history_simple = model_simple.fit(\n",
        "    train_generator,\n",
        "    epochs=100,\n",
        "    callbacks = [reduce_lr, early_stop],\n",
        "    verbose=1,\n",
        "    validation_data=validation_generator\n",
        ")"
      ],
      "execution_count": null,
      "outputs": [
        {
          "output_type": "stream",
          "text": [
            "Epoch 1/100\n",
            "188/188 [==============================] - 99s 515ms/step - loss: 1.6046 - accuracy: 0.3572 - val_loss: 1.5737 - val_accuracy: 0.3428\n",
            "Epoch 2/100\n",
            "188/188 [==============================] - 94s 500ms/step - loss: 1.3466 - accuracy: 0.4841 - val_loss: 1.3496 - val_accuracy: 0.4873\n",
            "Epoch 3/100\n",
            "188/188 [==============================] - 96s 510ms/step - loss: 1.1573 - accuracy: 0.5727 - val_loss: 1.1472 - val_accuracy: 0.5728\n",
            "Epoch 4/100\n",
            "188/188 [==============================] - 95s 506ms/step - loss: 1.1117 - accuracy: 0.5903 - val_loss: 1.2286 - val_accuracy: 0.5514\n",
            "Epoch 5/100\n",
            "188/188 [==============================] - 93s 495ms/step - loss: 1.0545 - accuracy: 0.6190 - val_loss: 0.9016 - val_accuracy: 0.6776\n",
            "Epoch 6/100\n",
            "188/188 [==============================] - 95s 503ms/step - loss: 0.9639 - accuracy: 0.6549 - val_loss: 1.2379 - val_accuracy: 0.5381\n",
            "Epoch 7/100\n",
            "188/188 [==============================] - 95s 503ms/step - loss: 0.9817 - accuracy: 0.6530 - val_loss: 0.8552 - val_accuracy: 0.6949\n",
            "Epoch 8/100\n",
            "188/188 [==============================] - 94s 501ms/step - loss: 0.8587 - accuracy: 0.6962 - val_loss: 0.7432 - val_accuracy: 0.7356\n",
            "Epoch 9/100\n",
            "188/188 [==============================] - 94s 501ms/step - loss: 0.8485 - accuracy: 0.7015 - val_loss: 0.7924 - val_accuracy: 0.7360\n",
            "Epoch 10/100\n",
            "188/188 [==============================] - 95s 504ms/step - loss: 0.7667 - accuracy: 0.7316 - val_loss: 0.6314 - val_accuracy: 0.7824\n",
            "Epoch 11/100\n",
            "188/188 [==============================] - 95s 505ms/step - loss: 0.7230 - accuracy: 0.7475 - val_loss: 0.6903 - val_accuracy: 0.7513\n",
            "Epoch 12/100\n",
            "188/188 [==============================] - 93s 493ms/step - loss: 0.7348 - accuracy: 0.7397 - val_loss: 0.7119 - val_accuracy: 0.7513\n",
            "Epoch 13/100\n",
            "188/188 [==============================] - 94s 501ms/step - loss: 0.6878 - accuracy: 0.7611 - val_loss: 0.6302 - val_accuracy: 0.7744\n",
            "Epoch 14/100\n",
            "188/188 [==============================] - 95s 503ms/step - loss: 0.6272 - accuracy: 0.7805 - val_loss: 0.6290 - val_accuracy: 0.7897\n",
            "Epoch 15/100\n",
            "188/188 [==============================] - 93s 495ms/step - loss: 0.6059 - accuracy: 0.7864 - val_loss: 0.6202 - val_accuracy: 0.7877\n",
            "Epoch 16/100\n",
            "188/188 [==============================] - 93s 494ms/step - loss: 0.6042 - accuracy: 0.7905 - val_loss: 0.6067 - val_accuracy: 0.7897\n",
            "Epoch 17/100\n",
            "188/188 [==============================] - 96s 509ms/step - loss: 0.5795 - accuracy: 0.7994 - val_loss: 0.7521 - val_accuracy: 0.7477\n",
            "Epoch 18/100\n",
            "188/188 [==============================] - 96s 512ms/step - loss: 0.5635 - accuracy: 0.8059 - val_loss: 0.5593 - val_accuracy: 0.7954\n",
            "Epoch 19/100\n",
            "188/188 [==============================] - 94s 501ms/step - loss: 0.6228 - accuracy: 0.7814 - val_loss: 0.8382 - val_accuracy: 0.7130\n",
            "Epoch 20/100\n",
            "188/188 [==============================] - 96s 513ms/step - loss: 0.5904 - accuracy: 0.7905 - val_loss: 0.6249 - val_accuracy: 0.7827\n",
            "Epoch 21/100\n",
            "188/188 [==============================] - 97s 517ms/step - loss: 0.5261 - accuracy: 0.8144 - val_loss: 0.6161 - val_accuracy: 0.7911\n",
            "Epoch 22/100\n",
            "188/188 [==============================] - 95s 506ms/step - loss: 0.5920 - accuracy: 0.7933 - val_loss: 0.5934 - val_accuracy: 0.7884\n",
            "Epoch 23/100\n",
            "188/188 [==============================] - 95s 507ms/step - loss: 0.4903 - accuracy: 0.8321 - val_loss: 0.5447 - val_accuracy: 0.8074\n",
            "Epoch 24/100\n",
            "188/188 [==============================] - 95s 507ms/step - loss: 0.4775 - accuracy: 0.8329 - val_loss: 0.5272 - val_accuracy: 0.8124\n",
            "Epoch 25/100\n",
            "188/188 [==============================] - 96s 509ms/step - loss: 0.4621 - accuracy: 0.8395 - val_loss: 0.5757 - val_accuracy: 0.8001\n",
            "Epoch 26/100\n",
            "188/188 [==============================] - 95s 503ms/step - loss: 0.5496 - accuracy: 0.8102 - val_loss: 1.0080 - val_accuracy: 0.6352\n",
            "Epoch 27/100\n",
            "188/188 [==============================] - 96s 512ms/step - loss: 0.6652 - accuracy: 0.7680 - val_loss: 0.5269 - val_accuracy: 0.8061\n",
            "Epoch 28/100\n",
            "188/188 [==============================] - 96s 511ms/step - loss: 0.5315 - accuracy: 0.8119 - val_loss: 0.6729 - val_accuracy: 0.7600\n",
            "Epoch 29/100\n",
            "188/188 [==============================] - 94s 501ms/step - loss: 0.4833 - accuracy: 0.8327 - val_loss: 0.5005 - val_accuracy: 0.8288\n",
            "Epoch 30/100\n",
            "188/188 [==============================] - 96s 511ms/step - loss: 0.4721 - accuracy: 0.8341 - val_loss: 0.6059 - val_accuracy: 0.7967\n",
            "Epoch 31/100\n",
            "188/188 [==============================] - 96s 512ms/step - loss: 0.4799 - accuracy: 0.8338 - val_loss: 0.5801 - val_accuracy: 0.7994\n",
            "Epoch 32/100\n",
            "188/188 [==============================] - 95s 504ms/step - loss: 0.4371 - accuracy: 0.8461 - val_loss: 0.6165 - val_accuracy: 0.7887\n",
            "Epoch 33/100\n",
            "188/188 [==============================] - 95s 506ms/step - loss: 0.4208 - accuracy: 0.8522 - val_loss: 0.4703 - val_accuracy: 0.8344\n",
            "Epoch 34/100\n",
            "188/188 [==============================] - 97s 515ms/step - loss: 0.4161 - accuracy: 0.8512 - val_loss: 0.4213 - val_accuracy: 0.8541\n",
            "Epoch 35/100\n",
            "188/188 [==============================] - 95s 505ms/step - loss: 0.4479 - accuracy: 0.8444 - val_loss: 0.4340 - val_accuracy: 0.8478\n",
            "Epoch 36/100\n",
            "188/188 [==============================] - 95s 506ms/step - loss: 0.4016 - accuracy: 0.8610 - val_loss: 0.4394 - val_accuracy: 0.8418\n",
            "Epoch 37/100\n",
            "188/188 [==============================] - 94s 502ms/step - loss: 0.4500 - accuracy: 0.8444 - val_loss: 0.4690 - val_accuracy: 0.8411\n",
            "Epoch 38/100\n",
            "188/188 [==============================] - 94s 502ms/step - loss: 0.3940 - accuracy: 0.8631 - val_loss: 0.4519 - val_accuracy: 0.8385\n",
            "Epoch 39/100\n",
            "188/188 [==============================] - 95s 507ms/step - loss: 0.3864 - accuracy: 0.8640 - val_loss: 0.4444 - val_accuracy: 0.8461\n",
            "Epoch 40/100\n",
            "188/188 [==============================] - 96s 511ms/step - loss: 0.3200 - accuracy: 0.8877 - val_loss: 0.4298 - val_accuracy: 0.8495\n",
            "Epoch 41/100\n",
            "188/188 [==============================] - 95s 503ms/step - loss: 0.3176 - accuracy: 0.8904 - val_loss: 0.4284 - val_accuracy: 0.8548\n",
            "Epoch 42/100\n",
            "188/188 [==============================] - 93s 495ms/step - loss: 0.3044 - accuracy: 0.8940 - val_loss: 0.4594 - val_accuracy: 0.8364\n",
            "Epoch 43/100\n",
            "188/188 [==============================] - 95s 507ms/step - loss: 0.3015 - accuracy: 0.8951 - val_loss: 0.4265 - val_accuracy: 0.8528\n",
            "Epoch 44/100\n",
            "188/188 [==============================] - 96s 511ms/step - loss: 0.2996 - accuracy: 0.8936 - val_loss: 0.4607 - val_accuracy: 0.8458\n",
            "Epoch 45/100\n",
            "188/188 [==============================] - 94s 501ms/step - loss: 0.2777 - accuracy: 0.9014 - val_loss: 0.4211 - val_accuracy: 0.8578\n",
            "Epoch 46/100\n",
            "188/188 [==============================] - 96s 509ms/step - loss: 0.2875 - accuracy: 0.8988 - val_loss: 0.4132 - val_accuracy: 0.8611\n",
            "Epoch 47/100\n",
            "188/188 [==============================] - 95s 507ms/step - loss: 0.2872 - accuracy: 0.9017 - val_loss: 0.4154 - val_accuracy: 0.8575\n",
            "Epoch 48/100\n",
            "188/188 [==============================] - 95s 506ms/step - loss: 0.2789 - accuracy: 0.9041 - val_loss: 0.4166 - val_accuracy: 0.8558\n",
            "Epoch 49/100\n",
            "188/188 [==============================] - 95s 505ms/step - loss: 0.2876 - accuracy: 0.9015 - val_loss: 0.4323 - val_accuracy: 0.8545\n",
            "Epoch 50/100\n",
            "188/188 [==============================] - 96s 509ms/step - loss: 0.2771 - accuracy: 0.9063 - val_loss: 0.4247 - val_accuracy: 0.8568\n",
            "Epoch 51/100\n",
            "188/188 [==============================] - 96s 511ms/step - loss: 0.2804 - accuracy: 0.9022 - val_loss: 0.4227 - val_accuracy: 0.8588\n",
            "Epoch 52/100\n",
            "188/188 [==============================] - 94s 501ms/step - loss: 0.2689 - accuracy: 0.9088 - val_loss: 0.4276 - val_accuracy: 0.8591\n",
            "Epoch 53/100\n",
            "188/188 [==============================] - 96s 511ms/step - loss: 0.2767 - accuracy: 0.9030 - val_loss: 0.4309 - val_accuracy: 0.8535\n",
            "Epoch 54/100\n",
            "188/188 [==============================] - 97s 518ms/step - loss: 0.2798 - accuracy: 0.9029 - val_loss: 0.4349 - val_accuracy: 0.8548\n",
            "Epoch 55/100\n",
            "188/188 [==============================] - 94s 502ms/step - loss: 0.2704 - accuracy: 0.9084 - val_loss: 0.4271 - val_accuracy: 0.8548\n",
            "Epoch 56/100\n",
            "188/188 [==============================] - 96s 510ms/step - loss: 0.2717 - accuracy: 0.9032 - val_loss: 0.4327 - val_accuracy: 0.8555\n",
            "Epoch 57/100\n",
            "188/188 [==============================] - 96s 512ms/step - loss: 0.2681 - accuracy: 0.9067 - val_loss: 0.4400 - val_accuracy: 0.8535\n",
            "Epoch 58/100\n",
            "188/188 [==============================] - 96s 510ms/step - loss: 0.2747 - accuracy: 0.9050 - val_loss: 0.4318 - val_accuracy: 0.8535\n"
          ],
          "name": "stdout"
        }
      ]
    },
    {
      "cell_type": "markdown",
      "metadata": {
        "id": "cSvo5CTsLfVu"
      },
      "source": [
        "**RESULT VISUALIZATION**"
      ]
    },
    {
      "cell_type": "code",
      "metadata": {
        "id": "vYwur4xIMnrJ",
        "colab": {
          "base_uri": "https://localhost:8080/",
          "height": 331
        },
        "outputId": "25f3bea6-e0ac-4a29-ed41-a3906a8692ed"
      },
      "source": [
        "plot_history(history_simple)"
      ],
      "execution_count": null,
      "outputs": [
        {
          "output_type": "display_data",
          "data": {
            "image/png": "[encoded data removed]",
            "text/plain": [
              "<Figure size 1080x360 with 2 Axes>"
            ]
          },
          "metadata": {
            "tags": []
          }
        }
      ]
    },
    {
      "cell_type": "markdown",
      "metadata": {
        "id": "QQVr2hycLpBu"
      },
      "source": [
        "**RESULT EVALUATION**"
      ]
    },
    {
      "cell_type": "code",
      "metadata": {
        "colab": {
          "base_uri": "https://localhost:8080/"
        },
        "id": "T_Suc7OvIDKi",
        "outputId": "e7a057a1-98eb-40d4-b8b4-9063633d5d03"
      },
      "source": [
        "validation_generator = validation_datagen.flow_from_directory(\n",
        "    VALIDATION_DIR,\n",
        "    batch_size=159,\n",
        "    class_mode='categorical',\n",
        "    target_size=(150, 150),\n",
        "    shuffle = False\n",
        ")\n",
        "\n",
        "filenames = validation_generator.filenames\n",
        "nb_samples = len(filenames)\n",
        "\n",
        "Y_pred = model_simple.predict_generator(validation_generator, steps = nb_samples)\n",
        "y_pred = np.argmax(Y_pred, axis=1)\n",
        "\n",
        "print('Confusion Matrix')\n",
        "print(confusion_matrix(validation_generator.classes, y_pred))\n",
        "\n",
        "print('Classification Report')\n",
        "target_names = ['chicken',\n",
        "                'spider',\n",
        "                'sheep',\n",
        "                'butterfly',\n",
        "                'elephant',\n",
        "                'cat']\n",
        "print(classification_report(validation_generator.classes, y_pred, target_names=target_names))"
      ],
      "execution_count": null,
      "outputs": [
        {
          "output_type": "stream",
          "text": [
            "Found 2996 images belonging to 6 classes.\n",
            "WARNING:tensorflow:Your input ran out of data; interrupting training. Make sure that your dataset or generator can generate at least `steps_per_epoch * epochs` batches (in this case, 2996 batches). You may need to use the repeat() function when building your dataset.\n",
            "Confusion Matrix\n",
            "[[388   2  13   4   4  12]\n",
            " [ 16 235  25  22  23  13]\n",
            " [ 12   7 567  16  12   6]\n",
            " [  4   1   3 267  13   2]\n",
            " [  4   4  15  36 303   2]\n",
            " [ 80   3  29  21  12 820]]\n",
            "Classification Report\n",
            "              precision    recall  f1-score   support\n",
            "\n",
            "     chicken       0.77      0.92      0.84       423\n",
            "      spider       0.93      0.70      0.80       334\n",
            "       sheep       0.87      0.91      0.89       620\n",
            "   butterfly       0.73      0.92      0.81       290\n",
            "    elephant       0.83      0.83      0.83       364\n",
            "         cat       0.96      0.85      0.90       965\n",
            "\n",
            "    accuracy                           0.86      2996\n",
            "   macro avg       0.85      0.86      0.85      2996\n",
            "weighted avg       0.87      0.86      0.86      2996\n",
            "\n"
          ],
          "name": "stdout"
        }
      ]
    },
    {
      "cell_type": "markdown",
      "metadata": {
        "id": "Gv9SEhjOMarS"
      },
      "source": [
        "**SAVE TO TF-LITE**"
      ]
    },
    {
      "cell_type": "code",
      "metadata": {
        "id": "6U0Qs8-aOcnh"
      },
      "source": [
        "model_simple.save_weights('model_simple_weights.h5')\n",
        "model_simple.save('model_simple.h5')"
      ],
      "execution_count": null,
      "outputs": []
    },
    {
      "cell_type": "code",
      "metadata": {
        "colab": {
          "base_uri": "https://localhost:8080/"
        },
        "id": "hMpGwhiBM82Y",
        "outputId": "ddc45010-1747-4e0b-e10a-d076a24e9c88"
      },
      "source": [
        "converter = tf.lite.TFLiteConverter.from_keras_model(model_simple)\n",
        "tflite_model_simple = converter.convert()\n",
        "\n",
        "with tf.io.gfile.GFile('model_simple.tflite', 'wb') as f:\n",
        "  f.write(tflite_model_simple)"
      ],
      "execution_count": null,
      "outputs": [
        {
          "output_type": "stream",
          "text": [
            "INFO:tensorflow:Assets written to: /tmp/tmpiv8h7ttx/assets\n"
          ],
          "name": "stdout"
        }
      ]
    },
    {
      "cell_type": "markdown",
      "metadata": {
        "id": "CSdGivAoL8xh"
      },
      "source": [
        "**MODEL INCEPTION**"
      ]
    },
    {
      "cell_type": "code",
      "metadata": {
        "colab": {
          "base_uri": "https://localhost:8080/"
        },
        "id": "6sljTJjCKN9s",
        "outputId": "a078677a-c115-4f59-d936-6a0917c0a9ea"
      },
      "source": [
        "tf.keras.backend.clear_session()\n",
        "\n",
        "model_inception = tf.keras.models.Sequential([\n",
        "    InceptionV3(weights = \"imagenet\", include_top = False, input_shape = (150, 150, 3)),\n",
        "    tf.keras.layers.Flatten(),\n",
        "    tf.keras.layers.Dropout(0.5), \n",
        "    tf.keras.layers.Dense(64, activation='relu'),\n",
        "    tf.keras.layers.Dense(16, activation='relu'),\n",
        "    tf.keras.layers.Dense(6, activation='softmax')\n",
        "])\n",
        "\n",
        "model_inception.layers[0].trainable = False\n",
        "\n",
        "model_inception.summary()"
      ],
      "execution_count": null,
      "outputs": [
        {
          "output_type": "stream",
          "text": [
            "Model: \"sequential\"\n",
            "_________________________________________________________________\n",
            "Layer (type)                 Output Shape              Param #   \n",
            "=================================================================\n",
            "inception_v3 (Functional)    (None, 3, 3, 2048)        21802784  \n",
            "_________________________________________________________________\n",
            "flatten (Flatten)            (None, 18432)             0         \n",
            "_________________________________________________________________\n",
            "dropout (Dropout)            (None, 18432)             0         \n",
            "_________________________________________________________________\n",
            "dense (Dense)                (None, 512)               9437696   \n",
            "_________________________________________________________________\n",
            "dense_1 (Dense)              (None, 6)                 3078      \n",
            "=================================================================\n",
            "Total params: 31,243,558\n",
            "Trainable params: 9,440,774\n",
            "Non-trainable params: 21,802,784\n",
            "_________________________________________________________________\n"
          ],
          "name": "stdout"
        }
      ]
    },
    {
      "cell_type": "markdown",
      "metadata": {
        "id": "-xgyxX7aKN9u"
      },
      "source": [
        "### **RUNNING #2**"
      ]
    },
    {
      "cell_type": "markdown",
      "metadata": {
        "id": "hp5jLTXGNQVS"
      },
      "source": [
        "**MODEL OPTIMIZER USING ADAM**"
      ]
    },
    {
      "cell_type": "code",
      "metadata": {
        "colab": {
          "base_uri": "https://localhost:8080/"
        },
        "id": "J1L7Ik5QKN9u",
        "outputId": "a88eb421-7db7-4428-8f8e-23a35cf9a356"
      },
      "source": [
        "model_inception.compile(\n",
        "    optimizer = 'adam', \n",
        "    loss = 'categorical_crossentropy', \n",
        "    metrics = ['accuracy']\n",
        ")\n",
        "\n",
        "history_inception = model_inception.fit(\n",
        "    train_generator,\n",
        "    epochs=100,\n",
        "    callbacks = [reduce_lr, early_stop],\n",
        "    verbose=1,\n",
        "    validation_data=validation_generator\n",
        ")"
      ],
      "execution_count": null,
      "outputs": [
        {
          "output_type": "stream",
          "text": [
            "Epoch 1/100\n",
            "188/188 [==============================] - 105s 537ms/step - loss: 2.0608 - accuracy: 0.8604 - val_loss: 0.1644 - val_accuracy: 0.9503\n",
            "Epoch 2/100\n",
            "188/188 [==============================] - 99s 526ms/step - loss: 0.2648 - accuracy: 0.9119 - val_loss: 0.1399 - val_accuracy: 0.9559\n",
            "Epoch 3/100\n",
            "188/188 [==============================] - 99s 527ms/step - loss: 0.2282 - accuracy: 0.9253 - val_loss: 0.1452 - val_accuracy: 0.9513\n",
            "Epoch 4/100\n",
            "188/188 [==============================] - 99s 527ms/step - loss: 0.2091 - accuracy: 0.9286 - val_loss: 0.1393 - val_accuracy: 0.9549\n",
            "Epoch 5/100\n",
            "188/188 [==============================] - 98s 521ms/step - loss: 0.2067 - accuracy: 0.9292 - val_loss: 0.1335 - val_accuracy: 0.9526\n",
            "Epoch 6/100\n",
            "188/188 [==============================] - 99s 527ms/step - loss: 0.1957 - accuracy: 0.9330 - val_loss: 0.1334 - val_accuracy: 0.9546\n",
            "Epoch 7/100\n",
            "188/188 [==============================] - 100s 531ms/step - loss: 0.1866 - accuracy: 0.9351 - val_loss: 0.1196 - val_accuracy: 0.9609\n",
            "Epoch 8/100\n",
            "188/188 [==============================] - 98s 522ms/step - loss: 0.1748 - accuracy: 0.9389 - val_loss: 0.1239 - val_accuracy: 0.9589\n",
            "Epoch 9/100\n",
            "188/188 [==============================] - 99s 524ms/step - loss: 0.1832 - accuracy: 0.9373 - val_loss: 0.1226 - val_accuracy: 0.9583\n",
            "Epoch 10/100\n",
            "188/188 [==============================] - 99s 525ms/step - loss: 0.1674 - accuracy: 0.9414 - val_loss: 0.1240 - val_accuracy: 0.9569\n",
            "Epoch 11/100\n",
            "188/188 [==============================] - 98s 521ms/step - loss: 0.1706 - accuracy: 0.9424 - val_loss: 0.1245 - val_accuracy: 0.9593\n",
            "Epoch 12/100\n",
            "188/188 [==============================] - 99s 524ms/step - loss: 0.1769 - accuracy: 0.9404 - val_loss: 0.1241 - val_accuracy: 0.9596\n",
            "Epoch 13/100\n",
            "188/188 [==============================] - 99s 523ms/step - loss: 0.1533 - accuracy: 0.9490 - val_loss: 0.1100 - val_accuracy: 0.9636\n",
            "Epoch 14/100\n",
            "188/188 [==============================] - 98s 522ms/step - loss: 0.1434 - accuracy: 0.9492 - val_loss: 0.1069 - val_accuracy: 0.9666\n",
            "Epoch 15/100\n",
            "188/188 [==============================] - 99s 525ms/step - loss: 0.1427 - accuracy: 0.9500 - val_loss: 0.1105 - val_accuracy: 0.9660\n",
            "Epoch 16/100\n",
            "188/188 [==============================] - 99s 526ms/step - loss: 0.1424 - accuracy: 0.9490 - val_loss: 0.1071 - val_accuracy: 0.9646\n",
            "Epoch 17/100\n",
            "188/188 [==============================] - 98s 524ms/step - loss: 0.1397 - accuracy: 0.9511 - val_loss: 0.1032 - val_accuracy: 0.9670\n",
            "Epoch 18/100\n",
            "188/188 [==============================] - 99s 524ms/step - loss: 0.1333 - accuracy: 0.9545 - val_loss: 0.1077 - val_accuracy: 0.9686\n",
            "Epoch 19/100\n",
            "188/188 [==============================] - 99s 525ms/step - loss: 0.1366 - accuracy: 0.9517 - val_loss: 0.1045 - val_accuracy: 0.9666\n",
            "Epoch 20/100\n",
            "188/188 [==============================] - 98s 521ms/step - loss: 0.1397 - accuracy: 0.9533 - val_loss: 0.1058 - val_accuracy: 0.9663\n",
            "Epoch 21/100\n",
            "188/188 [==============================] - 98s 519ms/step - loss: 0.1329 - accuracy: 0.9526 - val_loss: 0.1060 - val_accuracy: 0.9673\n",
            "Epoch 22/100\n",
            "188/188 [==============================] - 99s 526ms/step - loss: 0.1403 - accuracy: 0.9525 - val_loss: 0.1045 - val_accuracy: 0.9693\n",
            "Epoch 23/100\n",
            "188/188 [==============================] - 98s 522ms/step - loss: 0.1252 - accuracy: 0.9562 - val_loss: 0.1034 - val_accuracy: 0.9693\n",
            "Epoch 24/100\n",
            "188/188 [==============================] - 98s 521ms/step - loss: 0.1253 - accuracy: 0.9533 - val_loss: 0.1053 - val_accuracy: 0.9700\n",
            "Epoch 25/100\n",
            "188/188 [==============================] - 98s 523ms/step - loss: 0.1286 - accuracy: 0.9535 - val_loss: 0.1015 - val_accuracy: 0.9686\n",
            "Epoch 26/100\n",
            "188/188 [==============================] - 98s 522ms/step - loss: 0.1296 - accuracy: 0.9542 - val_loss: 0.1026 - val_accuracy: 0.9680\n",
            "Epoch 27/100\n",
            "188/188 [==============================] - 98s 520ms/step - loss: 0.1317 - accuracy: 0.9554 - val_loss: 0.1050 - val_accuracy: 0.9680\n",
            "Epoch 28/100\n",
            "188/188 [==============================] - 98s 524ms/step - loss: 0.1193 - accuracy: 0.9579 - val_loss: 0.1041 - val_accuracy: 0.9690\n",
            "Epoch 29/100\n",
            "188/188 [==============================] - 99s 525ms/step - loss: 0.1318 - accuracy: 0.9516 - val_loss: 0.1036 - val_accuracy: 0.9686\n",
            "Epoch 30/100\n",
            "188/188 [==============================] - 98s 521ms/step - loss: 0.1277 - accuracy: 0.9551 - val_loss: 0.1048 - val_accuracy: 0.9696\n",
            "Epoch 31/100\n",
            "188/188 [==============================] - 99s 526ms/step - loss: 0.1316 - accuracy: 0.9551 - val_loss: 0.1044 - val_accuracy: 0.9680\n",
            "Epoch 32/100\n",
            "188/188 [==============================] - 99s 526ms/step - loss: 0.1248 - accuracy: 0.9566 - val_loss: 0.1030 - val_accuracy: 0.9683\n",
            "Epoch 33/100\n",
            "188/188 [==============================] - 98s 520ms/step - loss: 0.1244 - accuracy: 0.9538 - val_loss: 0.1026 - val_accuracy: 0.9686\n",
            "Epoch 34/100\n",
            "188/188 [==============================] - 98s 524ms/step - loss: 0.1244 - accuracy: 0.9566 - val_loss: 0.1025 - val_accuracy: 0.9686\n",
            "Epoch 35/100\n",
            "188/188 [==============================] - 98s 524ms/step - loss: 0.1269 - accuracy: 0.9542 - val_loss: 0.1023 - val_accuracy: 0.9690\n",
            "Epoch 36/100\n",
            "188/188 [==============================] - 99s 525ms/step - loss: 0.1241 - accuracy: 0.9577 - val_loss: 0.1016 - val_accuracy: 0.9693\n",
            "Epoch 37/100\n",
            "188/188 [==============================] - 99s 527ms/step - loss: 0.1209 - accuracy: 0.9581 - val_loss: 0.1025 - val_accuracy: 0.9693\n"
          ],
          "name": "stdout"
        }
      ]
    },
    {
      "cell_type": "markdown",
      "metadata": {
        "id": "Lg-zLknWNYp9"
      },
      "source": [
        "**RESULT VISUALIZATION**"
      ]
    },
    {
      "cell_type": "code",
      "metadata": {
        "colab": {
          "base_uri": "https://localhost:8080/",
          "height": 331
        },
        "id": "OC7H8D8mKN9v",
        "outputId": "122b2517-10ee-4dbc-f9bb-f98a2ee374b7"
      },
      "source": [
        "plot_history(history_inception)"
      ],
      "execution_count": null,
      "outputs": [
        {
          "output_type": "display_data",
          "data": {
            "image/png": "[encoded data removed]",
            "text/plain": [
              "<Figure size 1080x360 with 2 Axes>"
            ]
          },
          "metadata": {
            "tags": []
          }
        }
      ]
    },
    {
      "cell_type": "markdown",
      "metadata": {
        "id": "n_1SiXTHNcLL"
      },
      "source": [
        "**RESULT EVALUATION**"
      ]
    },
    {
      "cell_type": "code",
      "metadata": {
        "colab": {
          "base_uri": "https://localhost:8080/"
        },
        "id": "HyY64lLlKN9v",
        "outputId": "8f52cf57-faa8-42e6-8260-c61340f2282c"
      },
      "source": [
        "validation_generator = validation_datagen.flow_from_directory(\n",
        "    VALIDATION_DIR,\n",
        "    batch_size=159,\n",
        "    class_mode='categorical',\n",
        "    target_size=(150, 150),\n",
        "    shuffle = False\n",
        ")\n",
        "\n",
        "filenames = validation_generator.filenames\n",
        "nb_samples = len(filenames)\n",
        "\n",
        "Y_pred = model_inception.predict_generator(validation_generator, steps = nb_samples)\n",
        "y_pred = np.argmax(Y_pred, axis=1)\n",
        "\n",
        "print('Confusion Matrix')\n",
        "print(confusion_matrix(validation_generator.classes, y_pred))\n",
        "\n",
        "print('Classification Report')\n",
        "target_names = ['chicken',\n",
        "                'spider',\n",
        "                'sheep',\n",
        "                'butterfly',\n",
        "                'elephant',\n",
        "                'cat']\n",
        "print(classification_report(validation_generator.classes, y_pred, target_names=target_names))"
      ],
      "execution_count": null,
      "outputs": [
        {
          "output_type": "stream",
          "text": [
            "Found 2996 images belonging to 6 classes.\n",
            "WARNING:tensorflow:Your input ran out of data; interrupting training. Make sure that your dataset or generator can generate at least `steps_per_epoch * epochs` batches (in this case, 2996 batches). You may need to use the repeat() function when building your dataset.\n",
            "Confusion Matrix\n",
            "[[405   1   2   2   1  12]\n",
            " [  0 323   5   0   5   1]\n",
            " [  3   2 604   0   6   5]\n",
            " [  0   0   2 282   5   1]\n",
            " [  0   1   4   9 349   1]\n",
            " [ 19   3   1   1   2 939]]\n",
            "Classification Report\n",
            "              precision    recall  f1-score   support\n",
            "\n",
            "     chicken       0.95      0.96      0.95       423\n",
            "      spider       0.98      0.97      0.97       334\n",
            "       sheep       0.98      0.97      0.98       620\n",
            "   butterfly       0.96      0.97      0.97       290\n",
            "    elephant       0.95      0.96      0.95       364\n",
            "         cat       0.98      0.97      0.98       965\n",
            "\n",
            "    accuracy                           0.97      2996\n",
            "   macro avg       0.97      0.97      0.97      2996\n",
            "weighted avg       0.97      0.97      0.97      2996\n",
            "\n"
          ],
          "name": "stdout"
        }
      ]
    },
    {
      "cell_type": "markdown",
      "metadata": {
        "id": "3PnDWGxDNkJT"
      },
      "source": [
        "**SAVE TO TF-LITE**"
      ]
    },
    {
      "cell_type": "code",
      "metadata": {
        "id": "kXlavt9FOeoX"
      },
      "source": [
        "model_inception.save_weights('model_inception_weights.h5')\n",
        "model_inception.save('model_inception.h5')"
      ],
      "execution_count": null,
      "outputs": []
    },
    {
      "cell_type": "code",
      "metadata": {
        "colab": {
          "base_uri": "https://localhost:8080/"
        },
        "id": "CYYRCxf4KN9w",
        "outputId": "01fff58d-e97f-4d67-e31d-022c601d7a70"
      },
      "source": [
        "converter = tf.lite.TFLiteConverter.from_keras_model(model_inception)\n",
        "tflite_model_inception = converter.convert()\n",
        "\n",
        "with tf.io.gfile.GFile('model_inception.tflite', 'wb') as f:\n",
        "  f.write(tflite_model_inception)"
      ],
      "execution_count": null,
      "outputs": [
        {
          "output_type": "stream",
          "text": [
            "INFO:tensorflow:Assets written to: /tmp/tmpcmxp3u5c/assets\n"
          ],
          "name": "stdout"
        }
      ]
    },
    {
      "cell_type": "markdown",
      "metadata": {
        "id": "7MO0ogEhGBkL"
      },
      "source": [
        "### **IMAGE PREDICTION**"
      ]
    },
    {
      "cell_type": "markdown",
      "metadata": {
        "id": "KIBkZwT_N4mi"
      },
      "source": [
        "**FUNCTION FOR IMAGE PREDICTION**"
      ]
    },
    {
      "cell_type": "code",
      "metadata": {
        "id": "zLUY6pfCFUrO"
      },
      "source": [
        "def predict_image(image_upload, model = model_inception):\n",
        "  im = image_upload\n",
        "  im_array = np.asarray(im)\n",
        "  im_array = im_array*(1/225)\n",
        "  im_input = tf.reshape(im_array, shape = [1, 150, 150, 3])\n",
        "\n",
        "  predict_array = model.predict(im_input)[0]\n",
        "\n",
        "  import pandas as pd\n",
        "  df = pd.DataFrame(predict_array)\n",
        "  df = df.rename({0:'Probability'}, axis = 'columns')\n",
        "  prod = ['butterfly',\n",
        "          'cat',\n",
        "          'chicken',\n",
        "          'elephant',\n",
        "          'sheep',\n",
        "          'spider']\n",
        "  df['Product'] = prod\n",
        "  df = df[['Product', 'Probability']]\n",
        "\n",
        "  predict_label = np.argmax(model.predict(im_input))\n",
        "\n",
        "  if predict_label == 0:\n",
        "      predict_product = 'Butterfly'\n",
        "  elif predict_label == 1:\n",
        "      predict_product = 'Cat'\n",
        "  elif predict_label == 2:\n",
        "      predict_product = 'Chicken'\n",
        "  elif predict_label == 3:\n",
        "      predict_product = 'Elephant'\n",
        "  elif predict_label == 4:\n",
        "      predict_product = 'Sheep'\n",
        "  else:\n",
        "      predict_product = 'Spider'\n",
        "\n",
        "  return predict_product, df"
      ],
      "execution_count": null,
      "outputs": []
    },
    {
      "cell_type": "markdown",
      "metadata": {
        "id": "q2WrPpqWOHPn"
      },
      "source": [
        "**IMAGE PREDICTION**"
      ]
    },
    {
      "cell_type": "code",
      "metadata": {
        "id": "mbCbv83tFaIa"
      },
      "source": [
        "def predict():\n",
        "  uploaded = files.upload()\n",
        "\n",
        "  for fn in uploaded.keys():\n",
        "    path = fn\n",
        "    img = image.load_img(path, target_size=(150,150))\n",
        "    imgplot = plt.imshow(img)\n",
        "    x = image.img_to_array(img)\n",
        "    x = np.expand_dims(x, axis=0)\n",
        "    img = np.vstack([x])\n",
        "\n",
        "  label, df = predict_image(img)\n",
        "\n",
        "  print('\\n')\n",
        "  plt.show()\n",
        "  print(\"\\nThe image is detected as \" + label)\n",
        "  print('\\n')\n",
        "  print(df)\n",
        "  print('\\n')"
      ],
      "execution_count": null,
      "outputs": []
    },
    {
      "cell_type": "markdown",
      "metadata": {
        "id": "P9cnGiLHONYo"
      },
      "source": [
        "**RESULT**"
      ]
    },
    {
      "cell_type": "code",
      "metadata": {
        "colab": {
          "resources": {
            "http://localhost:8080/nbextensions/google.colab/files.js": {
              "data": "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",
              "ok": true,
              "headers": [
                [
                  "content-type",
                  "application/javascript"
                ]
              ],
              "status": 200,
              "status_text": ""
            }
          },
          "base_uri": "https://localhost:8080/",
          "height": 575
        },
        "id": "cArmjnIrK4cd",
        "outputId": "b18c4367-d907-46fe-aba8-66ec63c00163"
      },
      "source": [
        "predict()"
      ],
      "execution_count": null,
      "outputs": [
        {
          "output_type": "display_data",
          "data": {
            "text/html": [
              "\n",
              "     <input type=\"file\" id=\"files-7364c46c-3af3-42a2-805c-6f8dc04b6312\" name=\"files[]\" multiple disabled\n",
              "        style=\"border:none\" />\n",
              "     <output id=\"result-7364c46c-3af3-42a2-805c-6f8dc04b6312\">\n",
              "      Upload widget is only available when the cell has been executed in the\n",
              "      current browser session. Please rerun this cell to enable.\n",
              "      </output>\n",
              "      <script src=\"/nbextensions/google.colab/files.js\"></script> "
            ],
            "text/plain": [
              "<IPython.core.display.HTML object>"
            ]
          },
          "metadata": {
            "tags": []
          }
        },
        {
          "output_type": "stream",
          "text": [
            "Saving cute cat.jpg to cute cat.jpg\n",
            "\n",
            "\n"
          ],
          "name": "stdout"
        },
        {
          "output_type": "display_data",
          "data": {
            "image/png": "[encoded data removed]",
            "text/plain": [
              "<Figure size 432x288 with 1 Axes>"
            ]
          },
          "metadata": {
            "tags": []
          }
        },
        {
          "output_type": "stream",
          "text": [
            "\n",
            "The image is detected as Cat\n",
            "\n",
            "\n",
            "     Product  Probability\n",
            "0  butterfly     0.012450\n",
            "1        cat     0.923141\n",
            "2    chicken     0.035219\n",
            "3   elephant     0.003815\n",
            "4      sheep     0.025192\n",
            "5     spider     0.000183\n",
            "\n",
            "\n"
          ],
          "name": "stdout"
        }
      ]
    }
  ]
}